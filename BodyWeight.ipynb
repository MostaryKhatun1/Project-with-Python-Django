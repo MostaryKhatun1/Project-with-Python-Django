{
  "nbformat": 4,
  "nbformat_minor": 0,
  "metadata": {
    "colab": {
      "provenance": [],
      "mount_file_id": "1Gd77hPz9d15qUqf_3UBqTcfsGhwDLOBE",
      "authorship_tag": "ABX9TyNJBHNONKcBKVwtg8mTlsx5",
      "include_colab_link": true
    },
    "kernelspec": {
      "name": "python3",
      "display_name": "Python 3"
    },
    "language_info": {
      "name": "python"
    }
  },
  "cells": [
    {
      "cell_type": "markdown",
      "metadata": {
        "id": "view-in-github",
        "colab_type": "text"
      },
      "source": [
        "<a href=\"https://colab.research.google.com/github/MostaryKhatun1/Project-with-Python-Django/blob/main/BodyWeight.ipynb\" target=\"_parent\"><img src=\"https://colab.research.google.com/assets/colab-badge.svg\" alt=\"Open In Colab\"/></a>"
      ]
    },
    {
      "cell_type": "code",
      "execution_count": null,
      "metadata": {
        "id": "PADbSkVqw8Gx"
      },
      "outputs": [],
      "source": []
    },
    {
      "cell_type": "markdown",
      "source": [
        "connect drive to colab\n",
        "\n"
      ],
      "metadata": {
        "id": "5cZC4bQV1FII"
      }
    },
    {
      "cell_type": "code",
      "source": [
        "# Step 1: Mount Google Drive\n",
        "from google.colab import drive\n",
        "drive.mount('/content/drive')\n"
      ],
      "metadata": {
        "colab": {
          "base_uri": "https://localhost:8080/"
        },
        "id": "kl9UhQrU1MuZ",
        "outputId": "4588d41c-2031-4bb9-8830-926e3489daa9"
      },
      "execution_count": null,
      "outputs": [
        {
          "output_type": "stream",
          "name": "stdout",
          "text": [
            "Mounted at /content/drive\n"
          ]
        }
      ]
    },
    {
      "cell_type": "code",
      "source": [
        "# Step 2: Load datasets from Google Drive\n",
        "import pandas as pd\n",
        "\n",
        "# Load the main dataset (Replace 'main_data.csv' with the correct path to your file)\n",
        "main_df = pd.read_csv('/content/drive/MyDrive/weight.csv')\n",
        "\n",
        "# Load the additional dataset (Replace 'additional_data.csv' with the correct path to your file)\n",
        "additional_df = pd.read_csv('/content/drive/MyDrive/weight_test.csv')\n",
        "\n",
        "# Display the first few rows to verify that data is loaded correctly\n",
        "print(\"Main Dataset:\")\n",
        "print(main_df.head())\n",
        "\n",
        "print(\"\\nAdditional Dataset:\")\n",
        "print(additional_df.head())\n"
      ],
      "metadata": {
        "colab": {
          "base_uri": "https://localhost:8080/"
        },
        "id": "0ZOzyTpf1slA",
        "outputId": "43f34bd6-1af6-45b7-ee1b-a33f59a5834a"
      },
      "execution_count": null,
      "outputs": [
        {
          "output_type": "stream",
          "name": "stdout",
          "text": [
            "Main Dataset:\n",
            "   Age(Week)  Consumption in g/bird/day  BodyWeightAvg (g)  \\\n",
            "0          1                         12               67.5   \n",
            "1          2                         18              115.0   \n",
            "2          3                         26              195.0   \n",
            "3          4                         33              287.5   \n",
            "4          5                         38              390.0   \n",
            "\n",
            "   Cumulative g to date  \n",
            "0                    84  \n",
            "1                   210  \n",
            "2                   392  \n",
            "3                   623  \n",
            "4                   889  \n",
            "\n",
            "Additional Dataset:\n",
            "   Age(Week)  Consumption in g/bird/day  BodyWeightAvg (g)\n",
            "0         13                         70             1145.0\n",
            "1         14                         73             1222.5\n",
            "2         15                         76             1305.0\n",
            "3         16                         79             1387.5\n",
            "4         17                         81             1470.0\n"
          ]
        }
      ]
    },
    {
      "cell_type": "markdown",
      "source": [
        "Append or Merge Additional Data to the Main Dataset"
      ],
      "metadata": {
        "id": "9Nb3UOll463j"
      }
    },
    {
      "cell_type": "code",
      "source": [
        "# Step 3a: Append additional data using pd.concat (for new rows)\n",
        "combined_df = pd.concat([main_df, additional_df], ignore_index=True)\n",
        "\n",
        "# Display the combined dataset to verify\n",
        "print(\"Combined Dataset after appending:\")\n",
        "print(combined_df.tail())\n"
      ],
      "metadata": {
        "colab": {
          "base_uri": "https://localhost:8080/"
        },
        "id": "U28P-NUP4_Ce",
        "outputId": "4321ada6-dc55-482c-aa25-3f4de6b39458"
      },
      "execution_count": null,
      "outputs": [
        {
          "output_type": "stream",
          "name": "stdout",
          "text": [
            "Combined Dataset after appending:\n",
            "    Age(Week)  Consumption in g/bird/day  BodyWeightAvg (g)  \\\n",
            "13         14                         73             1222.5   \n",
            "14         15                         76             1305.0   \n",
            "15         16                         79             1387.5   \n",
            "16         17                         81             1470.0   \n",
            "17         18                         83             1540.0   \n",
            "\n",
            "    Cumulative g to date  \n",
            "13                   NaN  \n",
            "14                   NaN  \n",
            "15                   NaN  \n",
            "16                   NaN  \n",
            "17                   NaN  \n"
          ]
        }
      ]
    },
    {
      "cell_type": "markdown",
      "source": [
        "Handling Missing Values"
      ],
      "metadata": {
        "id": "dpYXarUK5fvc"
      }
    },
    {
      "cell_type": "code",
      "source": [
        "# Step 4: Handling missing values\n",
        "from sklearn.impute import SimpleImputer\n",
        "\n",
        "# Check for missing values\n",
        "print(\"Missing values before imputation:\")\n",
        "print(combined_df.isnull().sum())\n",
        "\n",
        "# Impute missing values with the median for numeric columns\n",
        "imputer = SimpleImputer(strategy='median')\n",
        "combined_df[['Consumption in g/bird/day', 'BodyWeightAvg (g)']] = imputer.fit_transform(\n",
        "    combined_df[['Consumption in g/bird/day', 'BodyWeightAvg (g)']])\n",
        "\n",
        "# Check for missing values after imputation\n",
        "print(\"Missing values after imputation:\")\n",
        "print(combined_df.isnull().sum())\n"
      ],
      "metadata": {
        "colab": {
          "base_uri": "https://localhost:8080/"
        },
        "id": "gec4_Qs85g9O",
        "outputId": "ead0c145-a98d-4566-ed98-b0eaede69a2c"
      },
      "execution_count": null,
      "outputs": [
        {
          "output_type": "stream",
          "name": "stdout",
          "text": [
            "Missing values before imputation:\n",
            "Age(Week)                    0\n",
            "Consumption in g/bird/day    0\n",
            "BodyWeightAvg (g)            0\n",
            "Cumulative g to date         6\n",
            "dtype: int64\n",
            "Missing values after imputation:\n",
            "Age(Week)                    0\n",
            "Consumption in g/bird/day    0\n",
            "BodyWeightAvg (g)            0\n",
            "Cumulative g to date         6\n",
            "dtype: int64\n"
          ]
        }
      ]
    },
    {
      "cell_type": "markdown",
      "source": [
        " Detect and Replace Outliers"
      ],
      "metadata": {
        "id": "JJXK50yr5poi"
      }
    },
    {
      "cell_type": "code",
      "source": [
        "# Step 5: Outlier detection and replacement using Z-score\n",
        "import numpy as np\n",
        "from scipy import stats\n",
        "\n",
        "# Calculate Z-scores for outlier detection\n",
        "z_scores = np.abs(stats.zscore(combined_df[['Consumption in g/bird/day', 'BodyWeightAvg (g)']]))\n",
        "threshold = 3  # Typical threshold for outliers\n",
        "\n",
        "# Identify outliers (where Z-score > threshold)\n",
        "outliers_mask = (z_scores > threshold)\n",
        "\n",
        "# Count and display the number of outliers detected for each column\n",
        "outliers_count = outliers_mask.sum(axis=0)\n",
        "print(\"Number of outliers detected:\")\n",
        "for col, count in zip(['Consumption in g/bird/day', 'BodyWeightAvg (g)'], outliers_count):\n",
        "    print(f\"{col}: {count}\")\n",
        "\n",
        "# Replace outliers with the median value for each column if any outliers are found\n",
        "for col in ['Consumption in g/bird/day', 'BodyWeightAvg (g)']:\n",
        "    # Only replace if there are outliers detected in the column\n",
        "    if outliers_count[['Consumption in g/bird/day', 'BodyWeightAvg (g)'].index(col)] > 0:\n",
        "        median = combined_df[col].median()\n",
        "        combined_df.loc[outliers_mask[:, combined_df.columns.get_loc(col)], col] = median\n",
        "        print(f\"Replaced outliers in {col} with median: {median}\")\n",
        "\n",
        "# Verify that outliers have been replaced (if there were any)\n",
        "print(\"Descriptive statistics after outlier replacement:\")\n",
        "print(combined_df.describe())\n"
      ],
      "metadata": {
        "colab": {
          "base_uri": "https://localhost:8080/"
        },
        "id": "6RXH7hRt5qix",
        "outputId": "a1b1ba66-b26a-4f69-ac2d-28fd22268c0e"
      },
      "execution_count": null,
      "outputs": [
        {
          "output_type": "stream",
          "name": "stdout",
          "text": [
            "Number of outliers detected:\n",
            "Consumption in g/bird/day: 0\n",
            "BodyWeightAvg (g): 0\n",
            "Descriptive statistics after outlier replacement:\n",
            "       Age(Week)  Consumption in g/bird/day  BodyWeightAvg (g)  \\\n",
            "count  18.000000                  18.000000          18.000000   \n",
            "mean    9.500000                  54.277778         807.222222   \n",
            "std     5.338539                  22.183209         482.100100   \n",
            "min     1.000000                  12.000000          67.500000   \n",
            "25%     5.250000                  39.250000         414.375000   \n",
            "50%     9.500000                  57.000000         820.000000   \n",
            "75%    13.750000                  72.250000        1203.125000   \n",
            "max    18.000000                  83.000000        1540.000000   \n",
            "\n",
            "       Cumulative g to date  \n",
            "count             12.000000  \n",
            "mean            1537.083333  \n",
            "std             1178.593573  \n",
            "min               84.000000  \n",
            "25%              565.250000  \n",
            "50%             1354.500000  \n",
            "75%             2364.250000  \n",
            "max             3605.000000  \n"
          ]
        },
        {
          "output_type": "stream",
          "name": "stderr",
          "text": [
            "<ipython-input-9-1064942e93eb>:21: FutureWarning: Series.__getitem__ treating keys as positions is deprecated. In a future version, integer keys will always be treated as labels (consistent with DataFrame behavior). To access a value by position, use `ser.iloc[pos]`\n",
            "  if outliers_count[['Consumption in g/bird/day', 'BodyWeightAvg (g)'].index(col)] > 0:\n"
          ]
        }
      ]
    },
    {
      "cell_type": "markdown",
      "source": [
        "Generate a Target Variable for Machine Learning"
      ],
      "metadata": {
        "id": "mdtwoo8j6IB7"
      }
    },
    {
      "cell_type": "code",
      "source": [
        "# Step 6: Create a target variable (body weight at 18 weeks)\n",
        "target_weight = 1540  # Target weight based on your goal for week 18\n",
        "\n",
        "# Add a new 'Target' column\n",
        "combined_df['Target'] = target_weight\n",
        "\n",
        "# Display the last few rows to verify that the 'Target' column has been added\n",
        "print(combined_df.tail())\n"
      ],
      "metadata": {
        "colab": {
          "base_uri": "https://localhost:8080/"
        },
        "id": "HdeD9Ocm6OeD",
        "outputId": "4f42e004-bf2a-4f8b-93d5-76c77be0b50f"
      },
      "execution_count": null,
      "outputs": [
        {
          "output_type": "stream",
          "name": "stdout",
          "text": [
            "    Age(Week)  Consumption in g/bird/day  BodyWeightAvg (g)  \\\n",
            "13         14                       73.0             1222.5   \n",
            "14         15                       76.0             1305.0   \n",
            "15         16                       79.0             1387.5   \n",
            "16         17                       81.0             1470.0   \n",
            "17         18                       83.0             1540.0   \n",
            "\n",
            "    Cumulative g to date  Target  \n",
            "13                   NaN    1540  \n",
            "14                   NaN    1540  \n",
            "15                   NaN    1540  \n",
            "16                   NaN    1540  \n",
            "17                   NaN    1540  \n"
          ]
        }
      ]
    },
    {
      "cell_type": "markdown",
      "source": [
        " Save the Preprocessed Data"
      ],
      "metadata": {
        "id": "SiwNVZoe6ScA"
      }
    },
    {
      "cell_type": "code",
      "source": [
        "# Step 7: Save the preprocessed dataset\n",
        "combined_df.to_csv('/content/drive/MyDrive/preprocessed_combined_data.csv', index=False)\n",
        "\n",
        "# Optionally, download the file locally\n",
        "from google.colab import files\n",
        "files.download('/content/drive/MyDrive/preprocessed_combined_data.csv')\n"
      ],
      "metadata": {
        "colab": {
          "base_uri": "https://localhost:8080/",
          "height": 17
        },
        "id": "FvEnsnu76Wpk",
        "outputId": "5a890699-8ce2-45af-efab-d8fcc7e2da52"
      },
      "execution_count": null,
      "outputs": [
        {
          "output_type": "display_data",
          "data": {
            "text/plain": [
              "<IPython.core.display.Javascript object>"
            ],
            "application/javascript": [
              "\n",
              "    async function download(id, filename, size) {\n",
              "      if (!google.colab.kernel.accessAllowed) {\n",
              "        return;\n",
              "      }\n",
              "      const div = document.createElement('div');\n",
              "      const label = document.createElement('label');\n",
              "      label.textContent = `Downloading \"${filename}\": `;\n",
              "      div.appendChild(label);\n",
              "      const progress = document.createElement('progress');\n",
              "      progress.max = size;\n",
              "      div.appendChild(progress);\n",
              "      document.body.appendChild(div);\n",
              "\n",
              "      const buffers = [];\n",
              "      let downloaded = 0;\n",
              "\n",
              "      const channel = await google.colab.kernel.comms.open(id);\n",
              "      // Send a message to notify the kernel that we're ready.\n",
              "      channel.send({})\n",
              "\n",
              "      for await (const message of channel.messages) {\n",
              "        // Send a message to notify the kernel that we're ready.\n",
              "        channel.send({})\n",
              "        if (message.buffers) {\n",
              "          for (const buffer of message.buffers) {\n",
              "            buffers.push(buffer);\n",
              "            downloaded += buffer.byteLength;\n",
              "            progress.value = downloaded;\n",
              "          }\n",
              "        }\n",
              "      }\n",
              "      const blob = new Blob(buffers, {type: 'application/binary'});\n",
              "      const a = document.createElement('a');\n",
              "      a.href = window.URL.createObjectURL(blob);\n",
              "      a.download = filename;\n",
              "      div.appendChild(a);\n",
              "      a.click();\n",
              "      div.remove();\n",
              "    }\n",
              "  "
            ]
          },
          "metadata": {}
        },
        {
          "output_type": "display_data",
          "data": {
            "text/plain": [
              "<IPython.core.display.Javascript object>"
            ],
            "application/javascript": [
              "download(\"download_97f10933-4c68-4492-9dac-d42e15e72c28\", \"preprocessed_combined_data.csv\", 505)"
            ]
          },
          "metadata": {}
        }
      ]
    },
    {
      "cell_type": "markdown",
      "source": [
        "Build a Machine Learning Model (Optional)"
      ],
      "metadata": {
        "id": "3zf_d-x66f3K"
      }
    },
    {
      "cell_type": "code",
      "source": [
        "from sklearn.model_selection import train_test_split\n",
        "from sklearn.linear_model import LinearRegression\n",
        "from sklearn.impute import SimpleImputer\n",
        "\n",
        "# Assuming 'Target' is the column for the desired target value, define it based on your criteria\n",
        "combined_df['Target'] = combined_df['BodyWeightAvg (g)']  # Replace with your target logic\n",
        "\n",
        "# Step 8: Split the data into features (X) and target (y)\n",
        "X = combined_df.drop(columns=['Target'])  # Features are all columns except 'Target'\n",
        "y = combined_df['Target']  # Target is the 'Target' column\n",
        "\n",
        "# Step 8a: Impute missing values using SimpleImputer\n",
        "imputer = SimpleImputer(strategy='mean')  # You can also use 'median' or 'most_frequent'\n",
        "X_imputed = imputer.fit_transform(X)\n",
        "\n",
        "# Split the data into training and testing sets\n",
        "X_train, X_test, y_train, y_test = train_test_split(X_imputed, y, test_size=0.2, random_state=42)\n",
        "\n",
        "# Train a Linear Regression model\n",
        "model = LinearRegression()\n",
        "model.fit(X_train, y_train)\n",
        "\n",
        "# Evaluate the model on the test set\n",
        "score = model.score(X_test, y_test)\n",
        "print(f\"Model R^2 score: {score}\")\n",
        "\n",
        "# Optional: Make predictions\n",
        "predictions = model.predict(X_test)\n",
        "print(\"Predictions on test set:\")\n",
        "print(predictions)\n"
      ],
      "metadata": {
        "colab": {
          "base_uri": "https://localhost:8080/"
        },
        "id": "wB2FqRtp6gzv",
        "outputId": "18929b33-a35d-4d3b-d3b3-f25eaad57b9d"
      },
      "execution_count": null,
      "outputs": [
        {
          "output_type": "stream",
          "name": "stdout",
          "text": [
            "Model R^2 score: 1.0\n",
            "Predictions on test set:\n",
            "[ 67.5 115.  770.  487.5]\n"
          ]
        }
      ]
    }
  ]
}