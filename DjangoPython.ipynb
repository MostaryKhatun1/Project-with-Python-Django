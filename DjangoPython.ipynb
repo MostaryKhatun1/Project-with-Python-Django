{
  "nbformat": 4,
  "nbformat_minor": 0,
  "metadata": {
    "colab": {
      "provenance": [],
      "authorship_tag": "ABX9TyNPv8b7HSRgb6HiS5S8f+4w",
      "include_colab_link": true
    },
    "kernelspec": {
      "name": "python3",
      "display_name": "Python 3"
    },
    "language_info": {
      "name": "python"
    }
  },
  "cells": [
    {
      "cell_type": "markdown",
      "metadata": {
        "id": "view-in-github",
        "colab_type": "text"
      },
      "source": [
        "<a href=\"https://colab.research.google.com/github/MostaryKhatun1/Project-with-Python-Django/blob/main/DjangoPython.ipynb\" target=\"_parent\"><img src=\"https://colab.research.google.com/assets/colab-badge.svg\" alt=\"Open In Colab\"/></a>"
      ]
    },
    {
      "cell_type": "code",
      "source": [],
      "metadata": {
        "id": "rgHS_v98F9yM"
      },
      "execution_count": null,
      "outputs": []
    },
    {
      "cell_type": "markdown",
      "source": [
        "Calculator1"
      ],
      "metadata": {
        "id": "my7EjZPsGC7l"
      }
    },
    {
      "cell_type": "code",
      "source": [
        "!simple_calculator.py"
      ],
      "metadata": {
        "id": "JE0i1_m01ZdJ",
        "colab": {
          "base_uri": "https://localhost:8080/"
        },
        "outputId": "35e7f512-7e04-4962-827b-d5fa5f358941"
      },
      "execution_count": 4,
      "outputs": [
        {
          "output_type": "stream",
          "name": "stdout",
          "text": [
            "/bin/bash: line 1: simple_calculator.py: command not found\n"
          ]
        }
      ]
    },
    {
      "cell_type": "code",
      "source": [
        "# Create a Python file named 'simple_calculator.py'\n",
        "with open('simple_calculator.py', 'w') as f:\n",
        "    f.write(\"\"\"\n",
        "def add(a, b):\n",
        "    \\\"\\\"\\\"Return the sum of a and b.\\\"\\\"\\\"\n",
        "    return a + b\n",
        "\n",
        "def subtract(a, b):\n",
        "    \\\"\\\"\\\"Return the subtraction of b from a.\\\"\\\"\\\"\n",
        "    return a - b\n",
        "    \"\"\")\n"
      ],
      "metadata": {
        "id": "43L7CwgnGQ6G"
      },
      "execution_count": 6,
      "outputs": []
    },
    {
      "cell_type": "code",
      "source": [
        "# simple_calculator.py\n",
        "\n",
        "def add(a, b):\n",
        "    \"\"\"Return the sum of a and b.\"\"\"\n",
        "    return a + b\n",
        "\n",
        "def subtract(a, b):\n",
        "    \"\"\"Return the subtraction of b from a.\"\"\"\n",
        "    return a - b\n"
      ],
      "metadata": {
        "id": "9haknbYfHZUp"
      },
      "execution_count": 7,
      "outputs": []
    },
    {
      "cell_type": "code",
      "source": [
        "# Import the module after uploading it to the Colab environment\n",
        "import simple_calculator as sc\n",
        "\n",
        "# Test the add function\n",
        "result_add = sc.add(10, 5)\n",
        "print(f\"Addition: 10 + 5 = {result_add}\")\n",
        "\n",
        "# Test the subtract function\n",
        "result_subtract = sc.subtract(10, 5)\n",
        "print(f\"Subtraction: 10 - 5 = {result_subtract}\")\n"
      ],
      "metadata": {
        "colab": {
          "base_uri": "https://localhost:8080/"
        },
        "id": "dqWPSTV7HfF1",
        "outputId": "7a83913d-5c94-4683-f7d3-4e1f22d46a82"
      },
      "execution_count": 8,
      "outputs": [
        {
          "output_type": "stream",
          "name": "stdout",
          "text": [
            "Addition: 10 + 5 = 15\n",
            "Subtraction: 10 - 5 = 5\n"
          ]
        }
      ]
    }
  ]
}