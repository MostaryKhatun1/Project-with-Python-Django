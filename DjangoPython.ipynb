{
  "nbformat": 4,
  "nbformat_minor": 0,
  "metadata": {
    "colab": {
      "provenance": [],
      "authorship_tag": "ABX9TyPeRrPNZ9x5GMOgGbyWKXQ1",
      "include_colab_link": true
    },
    "kernelspec": {
      "name": "python3",
      "display_name": "Python 3"
    },
    "language_info": {
      "name": "python"
    }
  },
  "cells": [
    {
      "cell_type": "markdown",
      "metadata": {
        "id": "view-in-github",
        "colab_type": "text"
      },
      "source": [
        "<a href=\"https://colab.research.google.com/github/MostaryKhatun1/Project-with-Python-Django/blob/main/DjangoPython.ipynb\" target=\"_parent\"><img src=\"https://colab.research.google.com/assets/colab-badge.svg\" alt=\"Open In Colab\"/></a>"
      ]
    },
    {
      "cell_type": "code",
      "execution_count": null,
      "metadata": {
        "id": "L9Ukuxs9eoCd"
      },
      "outputs": [],
      "source": []
    },
    {
      "cell_type": "code",
      "source": [],
      "metadata": {
        "id": "iQzvNacw1W4L"
      },
      "execution_count": null,
      "outputs": []
    },
    {
      "cell_type": "markdown",
      "source": [
        "List\n"
      ],
      "metadata": {
        "id": "k5kSUezB1Xrk"
      }
    },
    {
      "cell_type": "code",
      "source": [
        "#myList=[\"Apple\",\"Cherry\",\"Banana\",\"Mango\"]\n",
        "mylist=list((\"Apple\",\"Cherry\",\"Banana\",\"Mango\"))\n",
        "for"
      ],
      "metadata": {
        "id": "JE0i1_m01ZdJ"
      },
      "execution_count": null,
      "outputs": []
    }
  ]
}