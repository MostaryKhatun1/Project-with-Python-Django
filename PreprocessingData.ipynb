{
  "nbformat": 4,
  "nbformat_minor": 0,
  "metadata": {
    "colab": {
      "provenance": [],
      "authorship_tag": "ABX9TyO+WnGe6A0CMim4H90FMWrT",
      "include_colab_link": true
    },
    "kernelspec": {
      "name": "python3",
      "display_name": "Python 3"
    },
    "language_info": {
      "name": "python"
    }
  },
  "cells": [
    {
      "cell_type": "markdown",
      "metadata": {
        "id": "view-in-github",
        "colab_type": "text"
      },
      "source": [
        "<a href=\"https://colab.research.google.com/github/MostaryKhatun1/Project-with-Python-Django/blob/main/PreprocessingData.ipynb\" target=\"_parent\"><img src=\"https://colab.research.google.com/assets/colab-badge.svg\" alt=\"Open In Colab\"/></a>"
      ]
    },
    {
      "cell_type": "code",
      "execution_count": null,
      "metadata": {
        "colab": {
          "base_uri": "https://localhost:8080/"
        },
        "id": "1FOXV6kypSwt",
        "outputId": "fce9441f-10b6-4380-b27d-903ec9e7ecf0"
      },
      "outputs": [
        {
          "output_type": "stream",
          "name": "stdout",
          "text": [
            "Mean Squared Error: 13606.546718749996\n",
            "Predicted Body Weights (Weeks 13-18): [1141.45 1213.8  1295.1  1394.8  1455.55 1501.35]\n",
            "Predicted Egg Production at Week 18: [11.55]\n"
          ]
        },
        {
          "output_type": "stream",
          "name": "stderr",
          "text": [
            "/usr/local/lib/python3.10/dist-packages/sklearn/base.py:493: UserWarning: X does not have valid feature names, but StandardScaler was fitted with feature names\n",
            "  warnings.warn(\n"
          ]
        }
      ],
      "source": [
        "import pandas as pd\n",
        "from sklearn.model_selection import train_test_split\n",
        "from sklearn.preprocessing import StandardScaler\n",
        "from sklearn.ensemble import RandomForestRegressor\n",
        "from sklearn.metrics import mean_squared_error\n",
        "\n",
        "# Load datasets\n",
        "weight_train = pd.read_csv('weight.csv')\n",
        "weight_test = pd.read_csv('weight_test.csv')\n",
        "dim_train = pd.read_csv('dim_train.csv')\n",
        "dim_test = pd.read_csv('dim_test.csv')\n",
        "\n",
        "# Combine weight_train and weight_test into a single dataset\n",
        "weight_data = pd.concat([weight_train, weight_test])\n",
        "\n",
        "# Features and target for body weight prediction (Weeks 1-18)\n",
        "X_weight = weight_data[['Age(Week)', 'Consumption in g/bird/day']]  # Features\n",
        "y_weight = weight_data['BodyWeightAvg (g)']  # Target\n",
        "\n",
        "# Split data into training and testing for model validation\n",
        "X_train, X_val, y_train, y_val = train_test_split(X_weight, y_weight, test_size=0.2, random_state=42)\n",
        "\n",
        "# Feature scaling\n",
        "scaler = StandardScaler()\n",
        "X_train_scaled = scaler.fit_transform(X_train)\n",
        "X_val_scaled = scaler.transform(X_val)\n",
        "\n",
        "# Train model for predicting body weight (Random Forest)\n",
        "body_weight_model = RandomForestRegressor(n_estimators=100, random_state=42)\n",
        "body_weight_model.fit(X_train_scaled, y_train)\n",
        "\n",
        "# Predict and evaluate model\n",
        "y_pred = body_weight_model.predict(X_val_scaled)\n",
        "print(f\"Mean Squared Error: {mean_squared_error(y_val, y_pred)}\")\n",
        "\n",
        "# Predict body weight for weeks 13-18\n",
        "X_test_scaled = scaler.transform(weight_test[['Age(Week)', 'Consumption in g/bird/day']])\n",
        "predicted_body_weights = body_weight_model.predict(X_test_scaled)\n",
        "print(f\"Predicted Body Weights (Weeks 13-18): {predicted_body_weights}\")\n",
        "\n",
        "# Egg production prediction (use dim_train dataset)\n",
        "X_dim = dim_train[['Age(Week)', 'Bodyweight (g)']]\n",
        "y_dim = dim_train['Production %']\n",
        "\n",
        "# Split the data for egg production prediction\n",
        "X_train_dim, X_val_dim, y_train_dim, y_val_dim = train_test_split(X_dim, y_dim, test_size=0.2, random_state=42)\n",
        "\n",
        "# Feature scaling for production model\n",
        "X_train_dim_scaled = scaler.fit_transform(X_train_dim)\n",
        "X_val_dim_scaled = scaler.transform(X_val_dim)\n",
        "\n",
        "# Train RandomForest model for egg production\n",
        "production_model = RandomForestRegressor(n_estimators=100, random_state=42)\n",
        "production_model.fit(X_train_dim_scaled, y_train_dim)\n",
        "\n",
        "# Predict egg production at week 18\n",
        "week_18_data = [[18, predicted_body_weights[-1]]]  # Use the predicted body weight for week 18\n",
        "week_18_data_scaled = scaler.transform(week_18_data)\n",
        "predicted_production_week_18 = production_model.predict(week_18_data_scaled)\n",
        "print(f\"Predicted Egg Production at Week 18: {predicted_production_week_18}\")\n"
      ]
    }
  ]
}